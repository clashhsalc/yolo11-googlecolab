{
  "nbformat": 4,
  "nbformat_minor": 0,
  "metadata": {
    "colab": {
      "provenance": [],
      "gpuType": "T4",
      "authorship_tag": "ABX9TyMAzRGNl1M3O0Yt88mzK9MM"
    },
    "kernelspec": {
      "name": "python3",
      "display_name": "Python 3"
    },
    "language_info": {
      "name": "python"
    },
    "accelerator": "GPU"
  },
  "cells": [
    {
      "cell_type": "code",
      "source": [
        "# @title Run to download the required libraries and models\n",
        "print(\"Downloading and installing libraries...\")\n",
        "%pip install ultralytics supervision roboflow ipywidgets > /dev/null 2>&1\n",
        "print(\"Done\")\n",
        "print(\"Downloading the model...\")\n",
        "!pip install gdown > /dev/null 2>&1\n",
        "import gdown\n",
        "file_id = '12q1xnr7_Enz_BwfP8G0DtAM4Z_i2KYhi'\n",
        "destination = 'yolo11.pt'\n",
        "gdown.download(f\"https://drive.google.com/uc?id={file_id}\", destination, quiet=True)\n",
        "print(\"Done\")\n",
        "print(\"Setup complete!\")\n"
      ],
      "metadata": {
        "id": "DiNu1rBj2dFX",
        "cellView": "form"
      },
      "execution_count": null,
      "outputs": []
    },
    {
      "cell_type": "code",
      "source": [
        "# @title Run the model (use T4 GPU for best resutls)\n",
        "import ipywidgets as widgets\n",
        "from IPython.display import display\n",
        "from ultralytics import YOLO\n",
        "import os\n",
        "from google.colab import files\n",
        "import torch\n",
        "\n",
        "def predict(source_path):\n",
        "    device = 'cuda' if torch.cuda.is_available() else 'cpu'\n",
        "    model = YOLO('yolo11.pt').to(device)\n",
        "    results = model.predict(source=source_path, conf=0.25, save=True)\n",
        "    output_path = results[0].save_dir\n",
        "    image_name = os.listdir(output_path)[0]\n",
        "    image_path = os.path.join(output_path, image_name)\n",
        "    final_image_path = f\"/content/{image_name}\"\n",
        "    os.rename(image_path, final_image_path)\n",
        "    return final_image_path\n",
        "\n",
        "uploaded = files.upload()\n",
        "\n",
        "for filename in uploaded.keys():\n",
        "    source_input = widgets.Text(value=filename, description='Source File:', placeholder='Enter image filename')\n",
        "\n",
        "button = widgets.Button(description=\"Run YOLO\")\n",
        "\n",
        "def on_button_click(b):\n",
        "    output_image_path = predict(source_input.value)\n",
        "    files.download(output_image_path)\n",
        "\n",
        "button.on_click(on_button_click)\n",
        "\n",
        "display(source_input)\n",
        "display(button)\n"
      ],
      "metadata": {
        "id": "tYa_0h6D6jBa",
        "cellView": "form"
      },
      "execution_count": null,
      "outputs": []
    }
  ]
}